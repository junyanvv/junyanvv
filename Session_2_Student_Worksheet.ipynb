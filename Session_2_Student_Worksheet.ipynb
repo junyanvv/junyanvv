{
  "cells": [
    {
      "cell_type": "markdown",
      "metadata": {
        "id": "view-in-github",
        "colab_type": "text"
      },
      "source": [
        "<a href=\"https://colab.research.google.com/github/junyanvv/junyanvv/blob/main/Session_2_Student_Worksheet.ipynb\" target=\"_parent\"><img src=\"https://colab.research.google.com/assets/colab-badge.svg\" alt=\"Open In Colab\"/></a>"
      ]
    },
    {
      "cell_type": "markdown",
      "id": "b9dee076",
      "metadata": {
        "id": "b9dee076"
      },
      "source": [
        "# 📊 Session 2 — Student Worksheet (Pandas + Plotly)\n",
        "Work in small groups. Find a CSV dataset on GitHub, load it in Colab, and adapt commands from the workbook.\n",
        "Be ready to walk through your code at the end.\n"
      ]
    },
    {
      "cell_type": "markdown",
      "id": "7dda3b45",
      "metadata": {
        "id": "7dda3b45"
      },
      "source": [
        "## Part 1 — Find a Dataset (GitHub)"
      ]
    },
    {
      "cell_type": "code",
      "execution_count": 7,
      "id": "7b27ef6b",
      "metadata": {
        "id": "7b27ef6b",
        "colab": {
          "base_uri": "https://localhost:8080/",
          "height": 35
        },
        "outputId": "fb08fde8-5e47-4b26-acbd-e14046594e90"
      },
      "outputs": [
        {
          "output_type": "execute_result",
          "data": {
            "text/plain": [
              "'/content/drive/MyDrive/Python/FastFoodNutritionMenuV2.csv'"
            ],
            "application/vnd.google.colaboratory.intrinsic+json": {
              "type": "string"
            }
          },
          "metadata": {},
          "execution_count": 7
        }
      ],
      "source": [
        "csv_url = '/content/drive/MyDrive/Python/FastFoodNutritionMenuV2.csv'\n",
        "csv_url"
      ]
    },
    {
      "cell_type": "markdown",
      "id": "1b1a0708",
      "metadata": {
        "id": "1b1a0708"
      },
      "source": [
        "## Part 2 — Load & Inspect"
      ]
    },
    {
      "cell_type": "code",
      "execution_count": 8,
      "id": "6a84b789",
      "metadata": {
        "id": "6a84b789",
        "colab": {
          "base_uri": "https://localhost:8080/"
        },
        "outputId": "b3f076b0-9608-4d3d-cd00-6abaf3acf65d"
      },
      "outputs": [
        {
          "output_type": "execute_result",
          "data": {
            "text/plain": [
              "(1148, 14)"
            ]
          },
          "metadata": {},
          "execution_count": 8
        }
      ],
      "source": [
        "import pandas as pd\n",
        "\n",
        "df = pd.read_csv(csv_url)\n",
        "rows, cols = df.shape\n",
        "rows, cols"
      ]
    },
    {
      "cell_type": "markdown",
      "id": "c751d4b8",
      "metadata": {
        "id": "c751d4b8"
      },
      "source": [
        "## Part 3 — Explore & Clean"
      ]
    },
    {
      "cell_type": "code",
      "execution_count": 9,
      "id": "97429ed3",
      "metadata": {
        "id": "97429ed3",
        "colab": {
          "base_uri": "https://localhost:8080/",
          "height": 398
        },
        "outputId": "23fe32f3-16a2-4ec6-b415-ced4bbea3f65"
      },
      "outputs": [
        {
          "output_type": "execute_result",
          "data": {
            "text/plain": [
              "Calories from\\nFat       506\n",
              "Weight Watchers\\nPnts    261\n",
              "Saturated Fat\\n(g)        57\n",
              "Fiber\\n(g)                57\n",
              "Trans Fat\\n(g)            57\n",
              "Total Fat\\n(g)            57\n",
              "Protein\\n(g)              57\n",
              "Carbs\\n(g)                57\n",
              "Calories                   1\n",
              "Cholesterol\\n(mg)          1\n",
              "dtype: int64"
            ],
            "text/html": [
              "<div>\n",
              "<style scoped>\n",
              "    .dataframe tbody tr th:only-of-type {\n",
              "        vertical-align: middle;\n",
              "    }\n",
              "\n",
              "    .dataframe tbody tr th {\n",
              "        vertical-align: top;\n",
              "    }\n",
              "\n",
              "    .dataframe thead th {\n",
              "        text-align: right;\n",
              "    }\n",
              "</style>\n",
              "<table border=\"1\" class=\"dataframe\">\n",
              "  <thead>\n",
              "    <tr style=\"text-align: right;\">\n",
              "      <th></th>\n",
              "      <th>0</th>\n",
              "    </tr>\n",
              "  </thead>\n",
              "  <tbody>\n",
              "    <tr>\n",
              "      <th>Calories from\\nFat</th>\n",
              "      <td>506</td>\n",
              "    </tr>\n",
              "    <tr>\n",
              "      <th>Weight Watchers\\nPnts</th>\n",
              "      <td>261</td>\n",
              "    </tr>\n",
              "    <tr>\n",
              "      <th>Saturated Fat\\n(g)</th>\n",
              "      <td>57</td>\n",
              "    </tr>\n",
              "    <tr>\n",
              "      <th>Fiber\\n(g)</th>\n",
              "      <td>57</td>\n",
              "    </tr>\n",
              "    <tr>\n",
              "      <th>Trans Fat\\n(g)</th>\n",
              "      <td>57</td>\n",
              "    </tr>\n",
              "    <tr>\n",
              "      <th>Total Fat\\n(g)</th>\n",
              "      <td>57</td>\n",
              "    </tr>\n",
              "    <tr>\n",
              "      <th>Protein\\n(g)</th>\n",
              "      <td>57</td>\n",
              "    </tr>\n",
              "    <tr>\n",
              "      <th>Carbs\\n(g)</th>\n",
              "      <td>57</td>\n",
              "    </tr>\n",
              "    <tr>\n",
              "      <th>Calories</th>\n",
              "      <td>1</td>\n",
              "    </tr>\n",
              "    <tr>\n",
              "      <th>Cholesterol\\n(mg)</th>\n",
              "      <td>1</td>\n",
              "    </tr>\n",
              "  </tbody>\n",
              "</table>\n",
              "</div><br><label><b>dtype:</b> int64</label>"
            ]
          },
          "metadata": {},
          "execution_count": 9
        }
      ],
      "source": [
        "df.dtypes\n",
        "\n",
        "df.isnull().sum().sort_values(ascending=False).head(10)"
      ]
    },
    {
      "cell_type": "code",
      "source": [
        "from google.colab import drive\n",
        "drive.mount('/content/drive')"
      ],
      "metadata": {
        "id": "VLc8FOpTd9UV",
        "outputId": "6f1e8827-da0e-46af-aed0-6d52022977c2",
        "colab": {
          "base_uri": "https://localhost:8080/"
        }
      },
      "id": "VLc8FOpTd9UV",
      "execution_count": 6,
      "outputs": [
        {
          "output_type": "stream",
          "name": "stdout",
          "text": [
            "Mounted at /content/drive\n"
          ]
        }
      ]
    },
    {
      "cell_type": "markdown",
      "id": "077b776f",
      "metadata": {
        "id": "077b776f"
      },
      "source": [
        "## Part 4 — Summarization"
      ]
    },
    {
      "cell_type": "code",
      "source": [
        "df['Calories_clean'] = (df['Calories'].astype(str)\n",
        "                        .str.replace(',', '')\n",
        "                        .str.replace(' ', '')\n",
        "                        .str.replace('cal', '', case=False)\n",
        "                        .str.replace('kcal', '', case=False))\n",
        "\n",
        "df['Calories_clean'] = pd.to_numeric(df['Calories_clean'], errors='coerce')"
      ],
      "metadata": {
        "id": "VprsHEbDgGLU"
      },
      "id": "VprsHEbDgGLU",
      "execution_count": 15,
      "outputs": []
    },
    {
      "cell_type": "code",
      "execution_count": 16,
      "id": "6ce9615d",
      "metadata": {
        "id": "6ce9615d",
        "colab": {
          "base_uri": "https://localhost:8080/",
          "height": 304
        },
        "outputId": "8ce896c2-0d8d-4588-97e6-d4740f66afed"
      },
      "outputs": [
        {
          "output_type": "execute_result",
          "data": {
            "text/plain": [
              "Company\n",
              "Burger King    359.189944\n",
              "Wendy’s        322.500000\n",
              "Taco Bell      292.166667\n",
              "McDonald’s     284.618902\n",
              "Pizza Hut      253.378378\n",
              "KFC            215.229358\n",
              "Name: Calories_clean, dtype: float64"
            ],
            "text/html": [
              "<div>\n",
              "<style scoped>\n",
              "    .dataframe tbody tr th:only-of-type {\n",
              "        vertical-align: middle;\n",
              "    }\n",
              "\n",
              "    .dataframe tbody tr th {\n",
              "        vertical-align: top;\n",
              "    }\n",
              "\n",
              "    .dataframe thead th {\n",
              "        text-align: right;\n",
              "    }\n",
              "</style>\n",
              "<table border=\"1\" class=\"dataframe\">\n",
              "  <thead>\n",
              "    <tr style=\"text-align: right;\">\n",
              "      <th></th>\n",
              "      <th>Calories_clean</th>\n",
              "    </tr>\n",
              "    <tr>\n",
              "      <th>Company</th>\n",
              "      <th></th>\n",
              "    </tr>\n",
              "  </thead>\n",
              "  <tbody>\n",
              "    <tr>\n",
              "      <th>Burger King</th>\n",
              "      <td>359.189944</td>\n",
              "    </tr>\n",
              "    <tr>\n",
              "      <th>Wendy’s</th>\n",
              "      <td>322.500000</td>\n",
              "    </tr>\n",
              "    <tr>\n",
              "      <th>Taco Bell</th>\n",
              "      <td>292.166667</td>\n",
              "    </tr>\n",
              "    <tr>\n",
              "      <th>McDonald’s</th>\n",
              "      <td>284.618902</td>\n",
              "    </tr>\n",
              "    <tr>\n",
              "      <th>Pizza Hut</th>\n",
              "      <td>253.378378</td>\n",
              "    </tr>\n",
              "    <tr>\n",
              "      <th>KFC</th>\n",
              "      <td>215.229358</td>\n",
              "    </tr>\n",
              "  </tbody>\n",
              "</table>\n",
              "</div><br><label><b>dtype:</b> float64</label>"
            ]
          },
          "metadata": {},
          "execution_count": 16
        }
      ],
      "source": [
        "category_col = 'Company'\n",
        "numeric_col = 'Calories'\n",
        "\n",
        "by_cat_mean = df.groupby(category_col)['Calories_clean'].mean().sort_values(ascending=False)\n",
        "by_cat_mean.head(10)"
      ]
    },
    {
      "cell_type": "markdown",
      "id": "7fe8314d",
      "metadata": {
        "id": "7fe8314d"
      },
      "source": [
        "## Part 5 — Visualization (Pandas + Plotly)"
      ]
    },
    {
      "cell_type": "code",
      "execution_count": 22,
      "id": "01a09b7e",
      "metadata": {
        "id": "01a09b7e",
        "colab": {
          "base_uri": "https://localhost:8080/",
          "height": 542
        },
        "outputId": "81d7f4f7-4773-45a4-f837-bd2854c154fc"
      },
      "outputs": [
        {
          "output_type": "display_data",
          "data": {
            "text/html": [
              "<html>\n",
              "<head><meta charset=\"utf-8\" /></head>\n",
              "<body>\n",
              "    <div>            <script src=\"https://cdnjs.cloudflare.com/ajax/libs/mathjax/2.7.5/MathJax.js?config=TeX-AMS-MML_SVG\"></script><script type=\"text/javascript\">if (window.MathJax && window.MathJax.Hub && window.MathJax.Hub.Config) {window.MathJax.Hub.Config({SVG: {font: \"STIX-Web\"}});}</script>                <script type=\"text/javascript\">window.PlotlyConfig = {MathJaxConfig: 'local'};</script>\n",
              "        <script charset=\"utf-8\" src=\"https://cdn.plot.ly/plotly-2.35.2.min.js\"></script>                <div id=\"ffc66606-7bdf-4bff-a836-b73e9fe093b8\" class=\"plotly-graph-div\" style=\"height:525px; width:100%;\"></div>            <script type=\"text/javascript\">                                    window.PLOTLYENV=window.PLOTLYENV || {};                                    if (document.getElementById(\"ffc66606-7bdf-4bff-a836-b73e9fe093b8\")) {                    Plotly.newPlot(                        \"ffc66606-7bdf-4bff-a836-b73e9fe093b8\",                        [{\"alignmentgroup\":\"True\",\"hovertemplate\":\"Company=%{x}\\u003cbr\\u003eCalories_clean=%{y}\\u003cextra\\u003e\\u003c\\u002fextra\\u003e\",\"legendgroup\":\"\",\"marker\":{\"color\":\"#636efa\",\"pattern\":{\"shape\":\"\"}},\"name\":\"\",\"offsetgroup\":\"\",\"orientation\":\"v\",\"showlegend\":false,\"textposition\":\"auto\",\"x\":[\"Burger King\",\"Wendy’s\",\"Taco Bell\",\"McDonald’s\",\"Pizza Hut\",\"KFC\"],\"xaxis\":\"x\",\"y\":[359.1899441340782,322.5,292.1666666666667,284.6189024390244,253.3783783783784,215.22935779816513],\"yaxis\":\"y\",\"type\":\"bar\"}],                        {\"template\":{\"data\":{\"histogram2dcontour\":[{\"type\":\"histogram2dcontour\",\"colorbar\":{\"outlinewidth\":0,\"ticks\":\"\"},\"colorscale\":[[0.0,\"#0d0887\"],[0.1111111111111111,\"#46039f\"],[0.2222222222222222,\"#7201a8\"],[0.3333333333333333,\"#9c179e\"],[0.4444444444444444,\"#bd3786\"],[0.5555555555555556,\"#d8576b\"],[0.6666666666666666,\"#ed7953\"],[0.7777777777777778,\"#fb9f3a\"],[0.8888888888888888,\"#fdca26\"],[1.0,\"#f0f921\"]]}],\"choropleth\":[{\"type\":\"choropleth\",\"colorbar\":{\"outlinewidth\":0,\"ticks\":\"\"}}],\"histogram2d\":[{\"type\":\"histogram2d\",\"colorbar\":{\"outlinewidth\":0,\"ticks\":\"\"},\"colorscale\":[[0.0,\"#0d0887\"],[0.1111111111111111,\"#46039f\"],[0.2222222222222222,\"#7201a8\"],[0.3333333333333333,\"#9c179e\"],[0.4444444444444444,\"#bd3786\"],[0.5555555555555556,\"#d8576b\"],[0.6666666666666666,\"#ed7953\"],[0.7777777777777778,\"#fb9f3a\"],[0.8888888888888888,\"#fdca26\"],[1.0,\"#f0f921\"]]}],\"heatmap\":[{\"type\":\"heatmap\",\"colorbar\":{\"outlinewidth\":0,\"ticks\":\"\"},\"colorscale\":[[0.0,\"#0d0887\"],[0.1111111111111111,\"#46039f\"],[0.2222222222222222,\"#7201a8\"],[0.3333333333333333,\"#9c179e\"],[0.4444444444444444,\"#bd3786\"],[0.5555555555555556,\"#d8576b\"],[0.6666666666666666,\"#ed7953\"],[0.7777777777777778,\"#fb9f3a\"],[0.8888888888888888,\"#fdca26\"],[1.0,\"#f0f921\"]]}],\"heatmapgl\":[{\"type\":\"heatmapgl\",\"colorbar\":{\"outlinewidth\":0,\"ticks\":\"\"},\"colorscale\":[[0.0,\"#0d0887\"],[0.1111111111111111,\"#46039f\"],[0.2222222222222222,\"#7201a8\"],[0.3333333333333333,\"#9c179e\"],[0.4444444444444444,\"#bd3786\"],[0.5555555555555556,\"#d8576b\"],[0.6666666666666666,\"#ed7953\"],[0.7777777777777778,\"#fb9f3a\"],[0.8888888888888888,\"#fdca26\"],[1.0,\"#f0f921\"]]}],\"contourcarpet\":[{\"type\":\"contourcarpet\",\"colorbar\":{\"outlinewidth\":0,\"ticks\":\"\"}}],\"contour\":[{\"type\":\"contour\",\"colorbar\":{\"outlinewidth\":0,\"ticks\":\"\"},\"colorscale\":[[0.0,\"#0d0887\"],[0.1111111111111111,\"#46039f\"],[0.2222222222222222,\"#7201a8\"],[0.3333333333333333,\"#9c179e\"],[0.4444444444444444,\"#bd3786\"],[0.5555555555555556,\"#d8576b\"],[0.6666666666666666,\"#ed7953\"],[0.7777777777777778,\"#fb9f3a\"],[0.8888888888888888,\"#fdca26\"],[1.0,\"#f0f921\"]]}],\"surface\":[{\"type\":\"surface\",\"colorbar\":{\"outlinewidth\":0,\"ticks\":\"\"},\"colorscale\":[[0.0,\"#0d0887\"],[0.1111111111111111,\"#46039f\"],[0.2222222222222222,\"#7201a8\"],[0.3333333333333333,\"#9c179e\"],[0.4444444444444444,\"#bd3786\"],[0.5555555555555556,\"#d8576b\"],[0.6666666666666666,\"#ed7953\"],[0.7777777777777778,\"#fb9f3a\"],[0.8888888888888888,\"#fdca26\"],[1.0,\"#f0f921\"]]}],\"mesh3d\":[{\"type\":\"mesh3d\",\"colorbar\":{\"outlinewidth\":0,\"ticks\":\"\"}}],\"scatter\":[{\"fillpattern\":{\"fillmode\":\"overlay\",\"size\":10,\"solidity\":0.2},\"type\":\"scatter\"}],\"parcoords\":[{\"type\":\"parcoords\",\"line\":{\"colorbar\":{\"outlinewidth\":0,\"ticks\":\"\"}}}],\"scatterpolargl\":[{\"type\":\"scatterpolargl\",\"marker\":{\"colorbar\":{\"outlinewidth\":0,\"ticks\":\"\"}}}],\"bar\":[{\"error_x\":{\"color\":\"#2a3f5f\"},\"error_y\":{\"color\":\"#2a3f5f\"},\"marker\":{\"line\":{\"color\":\"#E5ECF6\",\"width\":0.5},\"pattern\":{\"fillmode\":\"overlay\",\"size\":10,\"solidity\":0.2}},\"type\":\"bar\"}],\"scattergeo\":[{\"type\":\"scattergeo\",\"marker\":{\"colorbar\":{\"outlinewidth\":0,\"ticks\":\"\"}}}],\"scatterpolar\":[{\"type\":\"scatterpolar\",\"marker\":{\"colorbar\":{\"outlinewidth\":0,\"ticks\":\"\"}}}],\"histogram\":[{\"marker\":{\"pattern\":{\"fillmode\":\"overlay\",\"size\":10,\"solidity\":0.2}},\"type\":\"histogram\"}],\"scattergl\":[{\"type\":\"scattergl\",\"marker\":{\"colorbar\":{\"outlinewidth\":0,\"ticks\":\"\"}}}],\"scatter3d\":[{\"type\":\"scatter3d\",\"line\":{\"colorbar\":{\"outlinewidth\":0,\"ticks\":\"\"}},\"marker\":{\"colorbar\":{\"outlinewidth\":0,\"ticks\":\"\"}}}],\"scattermapbox\":[{\"type\":\"scattermapbox\",\"marker\":{\"colorbar\":{\"outlinewidth\":0,\"ticks\":\"\"}}}],\"scatterternary\":[{\"type\":\"scatterternary\",\"marker\":{\"colorbar\":{\"outlinewidth\":0,\"ticks\":\"\"}}}],\"scattercarpet\":[{\"type\":\"scattercarpet\",\"marker\":{\"colorbar\":{\"outlinewidth\":0,\"ticks\":\"\"}}}],\"carpet\":[{\"aaxis\":{\"endlinecolor\":\"#2a3f5f\",\"gridcolor\":\"white\",\"linecolor\":\"white\",\"minorgridcolor\":\"white\",\"startlinecolor\":\"#2a3f5f\"},\"baxis\":{\"endlinecolor\":\"#2a3f5f\",\"gridcolor\":\"white\",\"linecolor\":\"white\",\"minorgridcolor\":\"white\",\"startlinecolor\":\"#2a3f5f\"},\"type\":\"carpet\"}],\"table\":[{\"cells\":{\"fill\":{\"color\":\"#EBF0F8\"},\"line\":{\"color\":\"white\"}},\"header\":{\"fill\":{\"color\":\"#C8D4E3\"},\"line\":{\"color\":\"white\"}},\"type\":\"table\"}],\"barpolar\":[{\"marker\":{\"line\":{\"color\":\"#E5ECF6\",\"width\":0.5},\"pattern\":{\"fillmode\":\"overlay\",\"size\":10,\"solidity\":0.2}},\"type\":\"barpolar\"}],\"pie\":[{\"automargin\":true,\"type\":\"pie\"}]},\"layout\":{\"autotypenumbers\":\"strict\",\"colorway\":[\"#636efa\",\"#EF553B\",\"#00cc96\",\"#ab63fa\",\"#FFA15A\",\"#19d3f3\",\"#FF6692\",\"#B6E880\",\"#FF97FF\",\"#FECB52\"],\"font\":{\"color\":\"#2a3f5f\"},\"hovermode\":\"closest\",\"hoverlabel\":{\"align\":\"left\"},\"paper_bgcolor\":\"white\",\"plot_bgcolor\":\"#E5ECF6\",\"polar\":{\"bgcolor\":\"#E5ECF6\",\"angularaxis\":{\"gridcolor\":\"white\",\"linecolor\":\"white\",\"ticks\":\"\"},\"radialaxis\":{\"gridcolor\":\"white\",\"linecolor\":\"white\",\"ticks\":\"\"}},\"ternary\":{\"bgcolor\":\"#E5ECF6\",\"aaxis\":{\"gridcolor\":\"white\",\"linecolor\":\"white\",\"ticks\":\"\"},\"baxis\":{\"gridcolor\":\"white\",\"linecolor\":\"white\",\"ticks\":\"\"},\"caxis\":{\"gridcolor\":\"white\",\"linecolor\":\"white\",\"ticks\":\"\"}},\"coloraxis\":{\"colorbar\":{\"outlinewidth\":0,\"ticks\":\"\"}},\"colorscale\":{\"sequential\":[[0.0,\"#0d0887\"],[0.1111111111111111,\"#46039f\"],[0.2222222222222222,\"#7201a8\"],[0.3333333333333333,\"#9c179e\"],[0.4444444444444444,\"#bd3786\"],[0.5555555555555556,\"#d8576b\"],[0.6666666666666666,\"#ed7953\"],[0.7777777777777778,\"#fb9f3a\"],[0.8888888888888888,\"#fdca26\"],[1.0,\"#f0f921\"]],\"sequentialminus\":[[0.0,\"#0d0887\"],[0.1111111111111111,\"#46039f\"],[0.2222222222222222,\"#7201a8\"],[0.3333333333333333,\"#9c179e\"],[0.4444444444444444,\"#bd3786\"],[0.5555555555555556,\"#d8576b\"],[0.6666666666666666,\"#ed7953\"],[0.7777777777777778,\"#fb9f3a\"],[0.8888888888888888,\"#fdca26\"],[1.0,\"#f0f921\"]],\"diverging\":[[0,\"#8e0152\"],[0.1,\"#c51b7d\"],[0.2,\"#de77ae\"],[0.3,\"#f1b6da\"],[0.4,\"#fde0ef\"],[0.5,\"#f7f7f7\"],[0.6,\"#e6f5d0\"],[0.7,\"#b8e186\"],[0.8,\"#7fbc41\"],[0.9,\"#4d9221\"],[1,\"#276419\"]]},\"xaxis\":{\"gridcolor\":\"white\",\"linecolor\":\"white\",\"ticks\":\"\",\"title\":{\"standoff\":15},\"zerolinecolor\":\"white\",\"automargin\":true,\"zerolinewidth\":2},\"yaxis\":{\"gridcolor\":\"white\",\"linecolor\":\"white\",\"ticks\":\"\",\"title\":{\"standoff\":15},\"zerolinecolor\":\"white\",\"automargin\":true,\"zerolinewidth\":2},\"scene\":{\"xaxis\":{\"backgroundcolor\":\"#E5ECF6\",\"gridcolor\":\"white\",\"linecolor\":\"white\",\"showbackground\":true,\"ticks\":\"\",\"zerolinecolor\":\"white\",\"gridwidth\":2},\"yaxis\":{\"backgroundcolor\":\"#E5ECF6\",\"gridcolor\":\"white\",\"linecolor\":\"white\",\"showbackground\":true,\"ticks\":\"\",\"zerolinecolor\":\"white\",\"gridwidth\":2},\"zaxis\":{\"backgroundcolor\":\"#E5ECF6\",\"gridcolor\":\"white\",\"linecolor\":\"white\",\"showbackground\":true,\"ticks\":\"\",\"zerolinecolor\":\"white\",\"gridwidth\":2}},\"shapedefaults\":{\"line\":{\"color\":\"#2a3f5f\"}},\"annotationdefaults\":{\"arrowcolor\":\"#2a3f5f\",\"arrowhead\":0,\"arrowwidth\":1},\"geo\":{\"bgcolor\":\"white\",\"landcolor\":\"#E5ECF6\",\"subunitcolor\":\"white\",\"showland\":true,\"showlakes\":true,\"lakecolor\":\"white\"},\"title\":{\"x\":0.05},\"mapbox\":{\"style\":\"light\"}}},\"xaxis\":{\"anchor\":\"y\",\"domain\":[0.0,1.0],\"title\":{\"text\":\"Company\"}},\"yaxis\":{\"anchor\":\"x\",\"domain\":[0.0,1.0],\"title\":{\"text\":\"Calories_clean\"}},\"legend\":{\"tracegroupgap\":0},\"title\":{\"text\":\"Top 6 Companies by Average Calories\"},\"barmode\":\"relative\"},                        {\"responsive\": true}                    ).then(function(){\n",
              "                            \n",
              "var gd = document.getElementById('ffc66606-7bdf-4bff-a836-b73e9fe093b8');\n",
              "var x = new MutationObserver(function (mutations, observer) {{\n",
              "        var display = window.getComputedStyle(gd).display;\n",
              "        if (!display || display === 'none') {{\n",
              "            console.log([gd, 'removed!']);\n",
              "            Plotly.purge(gd);\n",
              "            observer.disconnect();\n",
              "        }}\n",
              "}});\n",
              "\n",
              "// Listen for the removal of the full notebook cells\n",
              "var notebookContainer = gd.closest('#notebook-container');\n",
              "if (notebookContainer) {{\n",
              "    x.observe(notebookContainer, {childList: true});\n",
              "}}\n",
              "\n",
              "// Listen for the clearing of the current output cell\n",
              "var outputEl = gd.closest('.output');\n",
              "if (outputEl) {{\n",
              "    x.observe(outputEl, {childList: true});\n",
              "}}\n",
              "\n",
              "                        })                };                            </script>        </div>\n",
              "</body>\n",
              "</html>"
            ]
          },
          "metadata": {}
        }
      ],
      "source": [
        "import plotly.express as px\n",
        "\n",
        "bar_df = by_cat_mean.head(10).reset_index()\n",
        "fig = px.bar(bar_df, x='Company', y='Calories_clean', title=f'Top 6 Companies by Average Calories')\n",
        "fig.show()"
      ]
    },
    {
      "cell_type": "markdown",
      "id": "1047af9c",
      "metadata": {
        "id": "1047af9c"
      },
      "source": [
        "## Part 6 — Reflection\n",
        "- What needed adjusting when you switched datasets?\n",
        "- What was easier/harder vs the workbook?\n",
        "- What context/limitations should a policymaker know?\n"
      ]
    },
    {
      "cell_type": "markdown",
      "id": "04f6652a",
      "metadata": {
        "id": "04f6652a"
      },
      "source": [
        "## Part 7 — ⚡ Lightning Chart Demos — Teach-Out Instructions"
      ]
    },
    {
      "cell_type": "markdown",
      "id": "4fcf0096",
      "metadata": {
        "id": "4fcf0096"
      },
      "source": [
        "### What is a Lightning Demo?\n",
        "A **rapid-fire mini-presentation**: 2 minutes per group. Show **one chart** + **one insight**, not your whole notebook.\n",
        "\n",
        "### Demo Format (2 minutes)\n",
        "1. **Context (15 sec):** Dataset name + 1-sentence purpose.  \n",
        "2. **Chart + Insight (75–90 sec):** Show interactive Plotly chart; state one clear finding; name one wrangling step.  \n",
        "3. **Caveat or Next Step (15–30 sec):** One limitation OR next idea.  \n",
        "4. **Pass the mic (10 sec):** End with *“Any questions about our chart?”*\n",
        "\n",
        "### Unique Angles\n",
        "- Aggregation choice (sum vs mean, raw vs normalized).  \n",
        "- Data cleaning step (conversion, deduping).  \n",
        "- Encoding (bar vs line vs scatter).  \n",
        "- Interactivity (facet, hover, filter).  \n",
        "- Comparability (per capita vs raw counts).  \n",
        "- Temporal nuance (trend vs snapshot).  \n",
        "\n",
        "👉 If another group showed your angle, pick a different one.\n",
        "\n",
        "### Flow for the Day\n",
        "- Groups present **clustered by chart type** (bars, lines, scatter, other).  \n",
        "- Instructor summarizes similarities/differences after each cluster.  \n",
        "- 15 groups × 2 min = ~30 minutes + transitions = ~40 minutes.\n",
        "\n",
        "### Presenter Checklist\n",
        "- [ ] Dataset URL loads in Colab  \n",
        "- [ ] Columns chosen make sense  \n",
        "- [ ] One **interactive Plotly figure** with title + labels  \n",
        "- [ ] Insight stated in one sentence  \n",
        "- [ ] One cleaning step mentioned  \n",
        "\n",
        "### Audience Task\n",
        "After each cluster, jot 1 sentence:  \n",
        "- What was **similar** across charts?  \n",
        "- What was **different** (aggregation, encoding, interactivity)?  \n",
        "- Which chart best supported a **policy decision**—and why?\n",
        "\n",
        "---\n",
        "### Quick Rubric (3 pts)\n",
        "- **Clarity of claim (1 pt)**  \n",
        "- **Method fit (1 pt)**  \n",
        "- **Insight/caveat (1 pt)**  \n",
        "(Bonus +0.5 for meaningful interactivity)\n",
        "\n",
        "---\n",
        "### Minimal Code Patterns\n",
        "\n",
        "**Top-N bar:**\n",
        "```python\n",
        "bar_df = df.groupby(category_col)[numeric_col].sum().nlargest(10).reset_index()\n",
        "fig = px.bar(bar_df, x=category_col, y=numeric_col,\n",
        "             title=f\"Top 10 {category_col} by {numeric_col}\")\n",
        "fig.show()\n",
        "```\n",
        "\n",
        "**Time series:**\n",
        "```python\n",
        "ts = (df.groupby(time_col)[numeric_col]\n",
        "        .sum()\n",
        "        .reset_index()\n",
        "        .sort_values(time_col))\n",
        "fig = px.line(ts, x=time_col, y=numeric_col, markers=True,\n",
        "              title=f\"{numeric_col} over time\")\n",
        "fig.show()\n",
        "```\n",
        "\n",
        "**Scatter:**\n",
        "```python\n",
        "fig = px.scatter(df, x=x_col, y=y_col, trendline=\"ols\",\n",
        "                 title=f\"{y_col} vs {x_col}\")\n",
        "fig.show()\n",
        "```\n",
        "\n",
        "---"
      ]
    }
  ],
  "metadata": {
    "colab": {
      "provenance": [],
      "include_colab_link": true
    },
    "language_info": {
      "name": "python"
    },
    "kernelspec": {
      "name": "python3",
      "display_name": "Python 3"
    }
  },
  "nbformat": 4,
  "nbformat_minor": 5
}